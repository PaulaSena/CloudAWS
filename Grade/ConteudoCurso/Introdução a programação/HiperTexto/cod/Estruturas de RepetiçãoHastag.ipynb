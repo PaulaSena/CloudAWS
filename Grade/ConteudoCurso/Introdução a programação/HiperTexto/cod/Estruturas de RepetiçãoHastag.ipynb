{
 "cells": [
  {
   "cell_type": "markdown",
   "metadata": {},
   "source": [
    "# Estruturas de Repetição"
   ]
  },
  {
   "cell_type": "markdown",
   "metadata": {},
   "source": [
    "## FOR"
   ]
  },
  {
   "cell_type": "code",
   "execution_count": null,
   "metadata": {},
   "outputs": [],
   "source": [
    "lojas = ['Rio de Janeiro', 'São Paulo', 'Belo Horizonte', 'Curitiba']\n",
    "\n",
    "for loja in lojas:\n",
    "    print(loja)\n",
    "print('Acabou o FOR')"
   ]
  },
  {
   "cell_type": "code",
   "execution_count": null,
   "metadata": {},
   "outputs": [],
   "source": [
    "for i in range(4):\n",
    "    print(i)\n",
    "    print(lojas[i])"
   ]
  },
  {
   "cell_type": "code",
   "execution_count": null,
   "metadata": {},
   "outputs": [],
   "source": [
    "for x in \"Daniel\":\n",
    "    print(x)\n",
    "    "
   ]
  },
  {
   "cell_type": "markdown",
   "metadata": {},
   "source": [
    "## While"
   ]
  },
  {
   "cell_type": "code",
   "execution_count": null,
   "metadata": {},
   "outputs": [],
   "source": [
    "nome = input('Insira um nome')\n",
    "while nome:\n",
    "    nome = input('Insira um nome')"
   ]
  },
  {
   "cell_type": "markdown",
   "metadata": {},
   "source": [
    "## Loop Infinito"
   ]
  },
  {
   "cell_type": "code",
   "execution_count": null,
   "metadata": {},
   "outputs": [],
   "source": [
    "nome = input('Insira um nome')\n",
    "while nome:\n",
    "    input('Insira um nome')"
   ]
  },
  {
   "cell_type": "markdown",
   "metadata": {},
   "source": [
    "# Caso real: Elaborar um compilado das vendas por loja.\n",
    "\n",
    "### Dados estão armazenados em pastas no computador conforme a estrutura abaixo:\n",
    "\n",
    "ANO>MÊS>DIA"
   ]
  },
  {
   "cell_type": "code",
   "execution_count": null,
   "metadata": {},
   "outputs": [],
   "source": [
    "import os\n",
    "from pathlib import Path\n",
    "import pandas as pd"
   ]
  },
  {
   "cell_type": "raw",
   "metadata": {},
   "source": [
    "1) Entender quais são as tarefas a serem feitas\n",
    "2) Onde estão os arquivos \n",
    "3) Entrar nas pastas\n",
    "4) Coletar a informção da pasta\n",
    "5) Juntar toda a informação"
   ]
  },
  {
   "cell_type": "code",
   "execution_count": null,
   "metadata": {},
   "outputs": [],
   "source": [
    "caminho= Path.cwd()\n",
    "\n",
    "vendas = pd.DataFrame(columns=['Loja','Vendedor','Valor da Venda'])\n",
    "\n",
    "for pasta in caminho.iterdir():\n",
    "    if pasta.is_dir():\n",
    "        os.chdir(pasta)\n",
    "        caminho= Path.cwd()\n",
    "        for pasta in caminho.iterdir():\n",
    "            if pasta.is_dir():\n",
    "                os.chdir(pasta)\n",
    "                caminho= Path.cwd()\n",
    "                for pasta in caminho.iterdir():\n",
    "                    if pasta.is_dir():\n",
    "                        os.chdir(pasta)\n",
    "                        caminho= Path.cwd()\n",
    "                        for arquivo in caminho.iterdir():\n",
    "                            venda = pd.read_excel(arquivo)\n",
    "                            vendas = vendas.append(venda,ignore_index=True)\n",
    "\n",
    "                            "
   ]
  },
  {
   "cell_type": "code",
   "execution_count": null,
   "metadata": {},
   "outputs": [],
   "source": [
    "display(vendas)"
   ]
  },
  {
   "cell_type": "code",
   "execution_count": null,
   "metadata": {},
   "outputs": [],
   "source": [
    "vendas_agregado = vendas.groupby(by=\"Loja\").sum()\n",
    "display(vendas_agregado)"
   ]
  },
  {
   "cell_type": "code",
   "execution_count": null,
   "metadata": {},
   "outputs": [],
   "source": [
    "del vendas_agregado['Vendedor']\n",
    "display(vendas_agregado)"
   ]
  },
  {
   "cell_type": "code",
   "execution_count": null,
   "metadata": {},
   "outputs": [],
   "source": [
    "os.chdir(r'C:\\Users\\danie\\OneDrive\\Área de Trabalho\\Vendas')#<-ALTERE AQUI O CAMINHO\n",
    "print(Path.cwd())"
   ]
  },
  {
   "cell_type": "code",
   "execution_count": null,
   "metadata": {},
   "outputs": [],
   "source": [
    "vendas_agregado.to_excel(\"Vendas por Loja.xlsx\")"
   ]
  }
 ],
 "metadata": {
  "kernelspec": {
   "display_name": "Python 3",
   "language": "python",
   "name": "python3"
  },
  "language_info": {
   "codemirror_mode": {
    "name": "ipython",
    "version": 3
   },
   "file_extension": ".py",
   "mimetype": "text/x-python",
   "name": "python",
   "nbconvert_exporter": "python",
   "pygments_lexer": "ipython3",
   "version": "3.8.3"
  }
 },
 "nbformat": 4,
 "nbformat_minor": 4
}
