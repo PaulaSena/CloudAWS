{
 "cells": [
  {
   "cell_type": "markdown",
   "metadata": {},
   "source": [
    "1. Função input():\n",
    "A função input() é usada para receber dados do usuário como uma string. Para obter um valor numérico, você pode convertê-lo usando int() ou float()."
   ]
  },
  {
   "cell_type": "code",
   "execution_count": null,
   "metadata": {},
   "outputs": [],
   "source": [
    "nome = input('Digite seu nome:')\n",
    "idade = int(input('Digite sua idade: '))\n",
    "altura = float(input('Digite sua altura: '))"
   ]
  },
  {
   "cell_type": "markdown",
   "metadata": {},
   "source": [
    "2. Argumentos da Linha de Comando:\n",
    "Você pode passar argumentos diretamente na linha de comando ao executar o script Python."
   ]
  },
  {
   "cell_type": "code",
   "execution_count": null,
   "metadata": {},
   "outputs": [],
   "source": [
    "import sys\n",
    "\n",
    "# Comando: python script.py argumento1 argumento2\n",
    "argumento1 = sys.argv[1]\n",
    "argumento2 = sys.argv[2]\n",
    "\n",
    "print(f\"Argumento 1: {argumento1}\")\n",
    "print(f\"Argumento 2: {argumento2}\")\n"
   ]
  },
  {
   "cell_type": "markdown",
   "metadata": {},
   "source": [
    "3. Leitura de Arquivos:\n",
    "Você pode ler dados diretamente de um arquivo usando a função open() e métodos como read() ou readline().\n"
   ]
  },
  {
   "cell_type": "code",
   "execution_count": null,
   "metadata": {},
   "outputs": [],
   "source": [
    "with open(\"arquivo.txt\", \"r\") as arquivo:\n",
    "    linha = arquivo.readline()\n",
    "    print(f\"Conteúdo do arquivo: {linha}\")\n"
   ]
  },
  {
   "cell_type": "markdown",
   "metadata": {},
   "source": [
    "4. Módulo getpass (para senhas):\n",
    "O módulo getpass permite a entrada segura de senhas, sem exibi-las no console.\n"
   ]
  },
  {
   "cell_type": "code",
   "execution_count": null,
   "metadata": {},
   "outputs": [],
   "source": [
    "from getpass import getpass\n",
    "\n",
    "senha = getpass(\"Digite sua senha: \")"
   ]
  },
  {
   "cell_type": "markdown",
   "metadata": {},
   "source": [
    "5. Biblioteca argparse (para scripts mais complexos):\n",
    "Para scripts mais complexos que exigem argumentos mais avançados da linha de comando, você pode usar o módulo argparse."
   ]
  },
  {
   "cell_type": "code",
   "execution_count": null,
   "metadata": {},
   "outputs": [],
   "source": [
    "import argparse\n",
    "\n",
    "parser = argparse.ArgumentParser()\n",
    "parser.add_argument(\"--arquivo\", help=\"Nome do arquivo de entrada\")\n",
    "parser.add_argument(\"--modo\", choices=[\"ler\", \"escrever\"], help=\"Modo de operação\")\n",
    "\n",
    "args = parser.parse_args()\n",
    "\n",
    "print(f\"Arquivo: {args.arquivo}\")\n",
    "print(f\"Modo: {args.modo}\")\n"
   ]
  }
 ],
 "metadata": {
  "kernelspec": {
   "display_name": "Python 3",
   "language": "python",
   "name": "python3"
  },
  "language_info": {
   "codemirror_mode": {
    "name": "ipython",
    "version": 3
   },
   "file_extension": ".py",
   "mimetype": "text/x-python",
   "name": "python",
   "nbconvert_exporter": "python",
   "pygments_lexer": "ipython3",
   "version": "3.11.5"
  }
 },
 "nbformat": 4,
 "nbformat_minor": 2
}
