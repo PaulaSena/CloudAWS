{
  "nbformat": 4,
  "nbformat_minor": 0,
  "metadata": {
    "colab": {
      "provenance": [],
      "authorship_tag": "ABX9TyNDV+2nejPI9vxX0I1Pvdeb",
      "include_colab_link": true
    },
    "kernelspec": {
      "name": "python3",
      "display_name": "Python 3"
    },
    "language_info": {
      "name": "python"
    }
  },
  "cells": [
    {
      "cell_type": "markdown",
      "metadata": {
        "id": "view-in-github",
        "colab_type": "text"
      },
      "source": [
        "<a href=\"https://colab.research.google.com/github/PaulaSena/CloudAWS/blob/main/Bebidafavorita.ipynb\" target=\"_parent\"><img src=\"https://colab.research.google.com/assets/colab-badge.svg\" alt=\"Open In Colab\"/></a>"
      ]
    },
    {
      "cell_type": "code",
      "source": [
        "idade = 20\n",
        "print(idade)\n",
        "print(type(idade))\n",
        "#\n",
        "bebida = \"Café\"\n",
        "valor = 8.00\n",
        "tipoBebida = \"não alcoólica\"\n",
        "print(\"Minha bebida favorita é \" + bebida + \", o tipo da bebida é \" + tipoBebida + \", seu valor é de R$\" + str(valor))\n",
        "print(\"bebida o tipo é \", type(bebida))\n",
        "print(\"valor o tipo é \", type(valor))\n",
        "print(\"tipobebida o tipo é \", type(tipoBebida))\n",
        "#\n",
        "\n",
        "bebida = \"Café\"\n",
        "valor = 8.00\n",
        "tipoBebida = \"Não alcoólica\"\n",
        "print(\"Minha bebida favorita é {} o tipo da bebida é {}, seu valor é de R${}\".format(bebida, tipoBebida, valor))\n",
        "\n"
      ],
      "metadata": {
        "colab": {
          "base_uri": "https://localhost:8080/"
        },
        "id": "jPXpBW-yaQnN",
        "outputId": "1d82c540-91ff-4da4-8619-0fe46a194128"
      },
      "execution_count": 11,
      "outputs": [
        {
          "output_type": "stream",
          "name": "stdout",
          "text": [
            "20\n",
            "<class 'int'>\n",
            "Minha bebida favorita é Café, o tipo da bebida é não alcoólica, seu valor é de R$8.0\n",
            "bebida o tipo é  <class 'str'>\n",
            "valor o tipo é  <class 'float'>\n",
            "tipobebida o tipo é  <class 'str'>\n",
            "Minha bebida favorita é, Café o tipo da bebida é Não alcoólica seu valor é de R$8.0\n"
          ]
        }
      ]
    },
    {
      "cell_type": "code",
      "execution_count": null,
      "metadata": {
        "id": "hue2u7MFaO_1"
      },
      "outputs": [],
      "source": []
    }
  ]
}