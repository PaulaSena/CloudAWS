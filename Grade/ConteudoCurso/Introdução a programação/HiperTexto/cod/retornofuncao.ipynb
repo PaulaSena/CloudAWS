{
 "cells": [
  {
   "cell_type": "markdown",
   "metadata": {},
   "source": [
    "Funções em Python são definidas por meio da seguinte sintaxe:\n",
    "\n"
   ]
  },
  {
   "cell_type": "code",
   "execution_count": null,
   "metadata": {},
   "outputs": [],
   "source": [
    "def nomedafuncao(parametro1, parametro2, ...):\n",
    "    corpodafuncao\n",
    "\n",
    "#Os exemplos abaixo ilustram melhor a criação de funções.\n"
   ]
  },
  {
   "cell_type": "code",
   "execution_count": 1,
   "metadata": {},
   "outputs": [
    {
     "name": "stdout",
     "output_type": "stream",
     "text": [
      "O valor do parâmetro é  10\n"
     ]
    }
   ],
   "source": [
    "# Exemplo (bem simples) de função em Python.\n",
    "def f(n): \n",
    "    print(\"O valor do parâmetro é \", n) \n",
    "\n",
    "f(10) "
   ]
  },
  {
   "cell_type": "markdown",
   "metadata": {},
   "source": [
    "Em vez de imprimir o parâmetro, podemos simplesmente retorná-lo, como abaixo:"
   ]
  },
  {
   "cell_type": "code",
   "execution_count": 2,
   "metadata": {},
   "outputs": [
    {
     "name": "stdout",
     "output_type": "stream",
     "text": [
      "O valor do parâmetro é 10\n"
     ]
    }
   ],
   "source": [
    "# Exemplo de função que retorna um valor.\n",
    "def f(n):\n",
    "    return n \n",
    "\n",
    "resultado = f(10)\n",
    "print(\"O valor do parâmetro é {}\".format(resultado))"
   ]
  },
  {
   "cell_type": "code",
   "execution_count": 4,
   "metadata": {},
   "outputs": [
    {
     "name": "stdout",
     "output_type": "stream",
     "text": [
      "O número 10 elevado ao quadrado é 100\n"
     ]
    }
   ],
   "source": [
    "# Outro exemplo de função que retorna um valor.\n",
    "def eleva_ao_quadrado(n):\n",
    "    return n ** 2\n",
    "\n",
    "print(\"O número {} elevado ao quadrado é {}\".format(10, eleva_ao_quadrado(10)))"
   ]
  },
  {
   "cell_type": "markdown",
   "metadata": {},
   "source": [
    "Funções em Python podem retornar mais de um valor:"
   ]
  },
  {
   "cell_type": "code",
   "execution_count": 5,
   "metadata": {},
   "outputs": [
    {
     "name": "stdout",
     "output_type": "stream",
     "text": [
      "Quociente e resto:  (2, 1)\n"
     ]
    }
   ],
   "source": [
    "# Exemplo de função que retorna mais de um valor.\n",
    "def quociente_resto(x, y):\n",
    "    quociente = x // y\n",
    "    resto = x % y\n",
    "    return (quociente, resto)\n",
    "\n",
    "print(\"Quociente e resto: \", quociente_resto(9, 4))"
   ]
  },
  {
   "cell_type": "markdown",
   "metadata": {},
   "source": [
    "Funções anônimas (funções lambda)\n",
    "Para finalizar essa seção, trataremos de um tópico um pouco mais avançado: funções anônimas, funções lambda, ou funções de alta ordem em Python.\n",
    "\n",
    "A palavra-chave lambda em Python nos permite criar funções anônimas. Este tipo de função é útil quando desejamos passar uma função simples como argumento para outra função.\n",
    "\n",
    "A função map aplica uma função a um conjunto de valores. No exemplo abaixo, mostraremos como aplicar uma outra função (eleva_ao_quadrado) a todos os elementos de uma lista. Retornaremos uma nova lista contendo cada número da lista de entrada elevado ao quadrado."
   ]
  },
  {
   "cell_type": "code",
   "execution_count": 6,
   "metadata": {},
   "outputs": [
    {
     "name": "stdout",
     "output_type": "stream",
     "text": [
      "[0, 1, 4, 9, 16]\n"
     ]
    }
   ],
   "source": [
    "def eleva_ao_quadrado(n):\n",
    "    return n ** 2\n",
    "\n",
    "# Função map sem o uso de função lambda.\n",
    "print(list(map(eleva_ao_quadrado, range(5))))"
   ]
  },
  {
   "cell_type": "markdown",
   "metadata": {},
   "source": [
    "Perceba que a função eleva_ao_quadrado é uma função muito simples, cujo único objetivo é ser passada como parâmetro para a função map. Podemos alcançar o mesmo resultado do código acima de forma mais concisa se usarmos uma função lambda."
   ]
  },
  {
   "cell_type": "code",
   "execution_count": 7,
   "metadata": {},
   "outputs": [
    {
     "name": "stdout",
     "output_type": "stream",
     "text": [
      "[0, 1, 4, 9, 16]\n"
     ]
    }
   ],
   "source": [
    "# Função map com função lambda.\n",
    "print(list(map(lambda x: x ** 2, range(5))))"
   ]
  },
  {
   "cell_type": "markdown",
   "metadata": {},
   "source": [
    "O conhecimento de como criar funções em Python fará nossos exercícios ficarem muito mais interessantes. A partir deste momento, a maioria deles envolverá a criação de uma função para desempenhar uma tarefa específica. Por mais simples que isso possa parecer, como programador, a maior parte do tempo você estará criando funções, então ter prática nisso ajudará muito.\n",
    "\n",
    "Retomando o que aprendemos na seção anterior, podemos criar uma função para calcular o fatorial de um número. O exemplo abaixo mostra uma função que recebe um número como parâmetro e retorna o fatorial desse número."
   ]
  },
  {
   "cell_type": "code",
   "execution_count": 8,
   "metadata": {},
   "outputs": [
    {
     "name": "stdout",
     "output_type": "stream",
     "text": [
      "O fatorial de 6 é 720\n"
     ]
    }
   ],
   "source": [
    "# Exemplo mais elaborado de função em Python.\n",
    "def fatorial(n):\n",
    "    fat = 1\n",
    "    while n > 1:\n",
    "        fat *= n\n",
    "        n -= 1\n",
    "    return fat\n",
    "\n",
    "print(\"O fatorial de {} é {}\".format(6, fatorial(6)))"
   ]
  },
  {
   "cell_type": "markdown",
   "metadata": {},
   "source": [
    "Escreva uma função que recebe dois parâmetros e imprime o menor dos dois. Se eles forem iguais, imprima que eles são iguais."
   ]
  },
  {
   "cell_type": "code",
   "execution_count": 9,
   "metadata": {},
   "outputs": [
    {
     "name": "stdout",
     "output_type": "stream",
     "text": [
      "0\n",
      "3\n",
      "Os números são iguais.\n"
     ]
    }
   ],
   "source": [
    "def imprime_menor(a, b):\n",
    "    if a < b:\n",
    "      print(a)\n",
    "    elif a > b:\n",
    "      print(b)\n",
    "    else:\n",
    "      print(\"Os números são iguais.\")\n",
    "\n",
    "imprime_menor(0, 5)\n",
    "imprime_menor(10, 3)\n",
    "imprime_menor(42, 42)"
   ]
  },
  {
   "cell_type": "markdown",
   "metadata": {},
   "source": [
    "Escreva uma função que recebe um número n como parâmetro e imprime se n é positivo ou negativo."
   ]
  },
  {
   "cell_type": "code",
   "execution_count": 10,
   "metadata": {},
   "outputs": [
    {
     "name": "stdout",
     "output_type": "stream",
     "text": [
      "Negativo\n",
      "Positivo\n"
     ]
    }
   ],
   "source": [
    "def imprime_sinal(n):\n",
    "    if n < 0:\n",
    "      print(\"Negativo\")\n",
    "    else:\n",
    "      print(\"Positivo\")\n",
    "\n",
    "imprime_sinal(-1)\n",
    "imprime_sinal(5)"
   ]
  },
  {
   "cell_type": "markdown",
   "metadata": {},
   "source": [
    "Escreva uma função para imprimir o valor absoluto de um número."
   ]
  },
  {
   "cell_type": "code",
   "execution_count": 11,
   "metadata": {},
   "outputs": [
    {
     "name": "stdout",
     "output_type": "stream",
     "text": [
      "5\n",
      "10\n",
      "1\n"
     ]
    }
   ],
   "source": [
    "def imprime_valor_absoluto(n):\n",
    "    if n < 0:\n",
    "      n = -n\n",
    "    print(n)\n",
    "\n",
    "imprime_valor_absoluto(-5)\n",
    "imprime_valor_absoluto(10)\n",
    "imprime_valor_absoluto(-1)"
   ]
  },
  {
   "cell_type": "markdown",
   "metadata": {},
   "source": [
    "Escreva uma função que recebe dois números (a e b) como parâmetro e retorna True caso a soma dos dois seja maior que um terceiro parâmetro, chamado limite."
   ]
  },
  {
   "cell_type": "code",
   "execution_count": 12,
   "metadata": {},
   "outputs": [
    {
     "name": "stdout",
     "output_type": "stream",
     "text": [
      "False\n"
     ]
    }
   ],
   "source": [
    "def soma_maior_que_limite(a, b, limite):\n",
    "    if a + b > limite:\n",
    "      return True\n",
    "    else:\n",
    "      return False\n",
    "\n",
    "print(soma_maior_que_limite(10, 5, 15))"
   ]
  },
  {
   "cell_type": "markdown",
   "metadata": {},
   "source": [
    "Perceba que a função acima retorna exatamente o resultado da comparação a + b > limite, isto é, se a + b for maior que limite, a função retorna True e caso contrário ela retorna False. Portanto, nossa função poderia ser escrita de forma mais sucinta assim:"
   ]
  },
  {
   "cell_type": "code",
   "execution_count": 13,
   "metadata": {},
   "outputs": [
    {
     "name": "stdout",
     "output_type": "stream",
     "text": [
      "False\n"
     ]
    }
   ],
   "source": [
    "def soma_maior_que_limite_sucinta(a, b, limite):\n",
    "    return a + b > limite\n",
    "\n",
    "print(soma_maior_que_limite_sucinta(10, 5, 15))"
   ]
  },
  {
   "cell_type": "markdown",
   "metadata": {},
   "source": [
    "Escreva uma função que recebe dois números (a e b) como parâmetro e retorna a quantidade (0, 1 ou 2) deles que é maior que um terceiro parâmetro, chamado limite."
   ]
  },
  {
   "cell_type": "code",
   "execution_count": 14,
   "metadata": {},
   "outputs": [
    {
     "name": "stdout",
     "output_type": "stream",
     "text": [
      "1\n"
     ]
    }
   ],
   "source": [
    "def num_parametros_maior_que_limite(a, b, limite):\n",
    "    if a > limite and b > limite:\n",
    "      return 2\n",
    "    elif a > limite or b > limite:\n",
    "      return 1\n",
    "    else:\n",
    "      return 0\n",
    "\n",
    "print(num_parametros_maior_que_limite(50, 7, 30))"
   ]
  },
  {
   "cell_type": "markdown",
   "metadata": {},
   "source": [
    "Escreva uma função que recebe um número como parâmetro e para cada número menor que o parâmetro, a função imprime \"Fizz\" se o número for múltiplo de três, imprime \"Buzz\" se o número for múltiplo de cinco, e imprime \"FizzBuzz\" se o número for múltiplo de três e cinco. Caso o número não seja múltiplo nem de três nem de cinco, ele deve ser impresso. Note que, ao contrário das funções anteriores, sua função não deve retornar nada. Ela precisa simplesmente imprimir o que foi pedido."
   ]
  },
  {
   "cell_type": "code",
   "execution_count": 15,
   "metadata": {},
   "outputs": [
    {
     "name": "stdout",
     "output_type": "stream",
     "text": [
      "FizzBuzz\n",
      "1\n",
      "2\n",
      "Fizz\n",
      "4\n",
      "Buzz\n",
      "Fizz\n",
      "7\n",
      "8\n",
      "Fizz\n",
      "Buzz\n",
      "11\n",
      "Fizz\n",
      "13\n",
      "14\n",
      "FizzBuzz\n",
      "None\n"
     ]
    }
   ],
   "source": [
    "def fizz_buzz(n):\n",
    "    for num in range(n):\n",
    "        if num % 3 == 0 and num % 5 == 0:\n",
    "            print('FizzBuzz')\n",
    "        elif num % 3 == 0:\n",
    "            print('Fizz')\n",
    "        elif num % 5 == 0:\n",
    "            print('Buzz')\n",
    "        else:\n",
    "            print(num)\n",
    "\n",
    "print(fizz_buzz(16))"
   ]
  },
  {
   "cell_type": "markdown",
   "metadata": {},
   "source": [
    "Escreva uma função que, dado um número nota representando a nota de um estudante, converte o valor de nota para um conceito (A, B, C, D, E e F)."
   ]
  },
  {
   "cell_type": "code",
   "execution_count": 16,
   "metadata": {},
   "outputs": [
    {
     "name": "stdout",
     "output_type": "stream",
     "text": [
      "D\n"
     ]
    }
   ],
   "source": [
    "def converte_nota_em_conceito(nota):\n",
    "    if nota >= 90:\n",
    "      return \"A\"\n",
    "    elif nota >= 80:\n",
    "      return \"B\"\n",
    "    elif nota >= 70:\n",
    "      return \"C\"\n",
    "    elif nota >= 60:\n",
    "      return \"D\"\n",
    "    elif nota >= 40:\n",
    "      return \"E\"\n",
    "    else:\n",
    "      return \"F\"\n",
    "\n",
    "print(converte_nota_em_conceito(65))"
   ]
  },
  {
   "cell_type": "markdown",
   "metadata": {},
   "source": [
    "Escreva uma função que recebe como entrada uma lista de números e retorna True se um número passado como parâmetro está presente na lista."
   ]
  },
  {
   "cell_type": "code",
   "execution_count": 17,
   "metadata": {},
   "outputs": [
    {
     "name": "stdout",
     "output_type": "stream",
     "text": [
      "True\n"
     ]
    }
   ],
   "source": [
    "def pesquisa_elemento1(numeros, numero_procurado):\n",
    "    for numero in numeros:\n",
    "      if numero == numero_procurado:\n",
    "          return True\n",
    "    return False\n",
    "\n",
    "print(pesquisa_elemento1([1, 10, 20, 30, 50, 100], 30))"
   ]
  },
  {
   "cell_type": "markdown",
   "metadata": {},
   "source": [
    "Na função acima, escolhemos percorrer a lista usando um for que percorre cada elemento da lista. Poderíamos também tê-la escrito usando um for que percorre cada índice da lista, como abaixo"
   ]
  },
  {
   "cell_type": "code",
   "execution_count": 18,
   "metadata": {},
   "outputs": [
    {
     "name": "stdout",
     "output_type": "stream",
     "text": [
      "True\n"
     ]
    }
   ],
   "source": [
    "def pesquisa_elemento2(numeros, numero_procurado):\n",
    "    for indice in range(len(numeros)):\n",
    "      if numeros[indice] == numero_procurado:\n",
    "          return True\n",
    "    return False\n",
    "\n",
    "print(pesquisa_elemento2([1, 10, 20, 30, 50, 100], 30))"
   ]
  },
  {
   "cell_type": "markdown",
   "metadata": {},
   "source": [
    "Como mencionamos acima, a função pesquisa_elemento1 nada mais é que uma pesquisa linear na lista de números de entrada. Como esse tipo de pesquisa é usada muito frequentemente, Python disponibiliza um mecanismo built-in (embutido na linguagem) para realizar esse tipo de pesquisa. Vejamos um exemplo:"
   ]
  },
  {
   "cell_type": "code",
   "execution_count": null,
   "metadata": {},
   "outputs": [],
   "source": [
    "def pesquisa_elemento3(numeros, numero_procurado):\n",
    "    return numero_procurado in numeros\n",
    "\n",
    "print(pesquisa_elemento3([1, 10, 20, 30, 50, 100], 30))"
   ]
  },
  {
   "cell_type": "markdown",
   "metadata": {},
   "source": [
    "Note que o código acima usa o in para verificar se o número procurado está na lista de números recebida como entrada. Neste momento, você pode estar se perguntando qual é a diferença do in usado aqui para o in usado no for na função pesquisa_elemento1. Ocorre que, quando o in é usado juntamente com um for, como na função pesquisa_elemento1, ele é usado para percorrer uma lista de elementos um a um.\n",
    "\n",
    "Mas, como vimos na função pesquisa_elemento3, o operador in também pode ser usado para checar se um elemento está em uma lista (ou em outra estrutura de dados).\n",
    "\n",
    "É importante fazer essa distinção de uso do in, principalmente porque, como você verá por você mesmo, ele é muito usado no dia a dia.\n",
    "\n",
    "Escreva uma função que recebe como entrada uma lista ordenada de números e retorna o índice do primeiro elemento maior que um elemento limite. Se nenhum elemento da lista for maior que o limite desejado, retorne o valor -1."
   ]
  },
  {
   "cell_type": "code",
   "execution_count": 19,
   "metadata": {},
   "outputs": [
    {
     "name": "stdout",
     "output_type": "stream",
     "text": [
      "2\n",
      "-1\n"
     ]
    }
   ],
   "source": [
    "def retorna_primeiro_maior(numeros, limite):\n",
    "    i = 0\n",
    "    while i < len(numeros):\n",
    "      if numeros[i] > limite:\n",
    "          return i\n",
    "      i += 1\n",
    "    return -1\n",
    "print(retorna_primeiro_maior([1, 10, 20, 30, 50, 100], 10))\n",
    "print(retorna_primeiro_maior([1, 10, 20, 30, 50, 100], 200))"
   ]
  },
  {
   "cell_type": "markdown",
   "metadata": {},
   "source": []
  }
 ],
 "metadata": {
  "kernelspec": {
   "display_name": "Python 3",
   "language": "python",
   "name": "python3"
  },
  "language_info": {
   "codemirror_mode": {
    "name": "ipython",
    "version": 3
   },
   "file_extension": ".py",
   "mimetype": "text/x-python",
   "name": "python",
   "nbconvert_exporter": "python",
   "pygments_lexer": "ipython3",
   "version": "3.11.5"
  }
 },
 "nbformat": 4,
 "nbformat_minor": 2
}
