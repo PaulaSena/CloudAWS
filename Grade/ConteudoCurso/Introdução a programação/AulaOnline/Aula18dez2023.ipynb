{
  "nbformat": 4,
  "nbformat_minor": 0,
  "metadata": {
    "colab": {
      "provenance": []
    },
    "kernelspec": {
      "name": "python3",
      "display_name": "Python 3"
    },
    "language_info": {
      "name": "python"
    }
  },
  "cells": [
    {
      "cell_type": "code",
      "execution_count": 2,
      "metadata": {
        "colab": {
          "base_uri": "https://localhost:8080/"
        },
        "id": "WAb_O0axKVZo",
        "outputId": "cd3ab2d9-58b1-4de8-aaa9-9b7506a7f41e"
      },
      "outputs": [
        {
          "output_type": "stream",
          "name": "stdout",
          "text": [
            "robo, por favor regue a planta número 0\n",
            "robo, por favor regue a planta número 1\n",
            "robo, por favor regue a planta número 2\n",
            "robo, por favor regue a planta número 3\n",
            "robo, por favor regue a planta número 4\n",
            "robo, por favor regue a planta número 5\n"
          ]
        }
      ],
      "source": [
        "for i in range(6):\n",
        "  print(\"robo, por favor regue a planta número \" + str(i))"
      ]
    },
    {
      "cell_type": "code",
      "source": [
        "#Replicar usando o While\n",
        "\n",
        "i = 0\n",
        "while(i<6):\n",
        "  print(\"robo, por favor regue a planta número \" + str(i))\n",
        "  i=i+1"
      ],
      "metadata": {
        "colab": {
          "base_uri": "https://localhost:8080/"
        },
        "id": "s-CqABAZKu09",
        "outputId": "e3f89b9c-4ff5-4c8b-cf92-e2a4033ce977"
      },
      "execution_count": 3,
      "outputs": [
        {
          "output_type": "stream",
          "name": "stdout",
          "text": [
            "robo, por favor regue a planta número 0\n",
            "robo, por favor regue a planta número 1\n",
            "robo, por favor regue a planta número 2\n",
            "robo, por favor regue a planta número 3\n",
            "robo, por favor regue a planta número 4\n",
            "robo, por favor regue a planta número 5\n"
          ]
        }
      ]
    },
    {
      "cell_type": "code",
      "source": [
        "#Replicar usando o While usanso o INCREMENTO +=1\n",
        "\n",
        "i = 0\n",
        "while(i<6):\n",
        "  print(\"robo, por favor regue a planta número \" + str(i))\n",
        "  i+=1"
      ],
      "metadata": {
        "colab": {
          "base_uri": "https://localhost:8080/"
        },
        "id": "wy0cUaPhLiuX",
        "outputId": "ce867884-b027-44dc-b505-c1eb0eeace5a"
      },
      "execution_count": 5,
      "outputs": [
        {
          "output_type": "stream",
          "name": "stdout",
          "text": [
            "robo, por favor regue a planta número 0\n",
            "robo, por favor regue a planta número 1\n",
            "robo, por favor regue a planta número 2\n",
            "robo, por favor regue a planta número 3\n",
            "robo, por favor regue a planta número 4\n",
            "robo, por favor regue a planta número 5\n"
          ]
        }
      ]
    },
    {
      "cell_type": "code",
      "source": [
        "for i in range(0, 6, 2):\n",
        "    print(\"robo, por favor regue a planta número \" + str(i))"
      ],
      "metadata": {
        "colab": {
          "base_uri": "https://localhost:8080/"
        },
        "id": "1o1o8r3QQ5NS",
        "outputId": "e94a1d1c-33df-4c61-8879-f9a045f3e4f7"
      },
      "execution_count": 6,
      "outputs": [
        {
          "output_type": "stream",
          "name": "stdout",
          "text": [
            "robo, por favor regue a planta número 0\n",
            "robo, por favor regue a planta número 2\n",
            "robo, por favor regue a planta número 4\n"
          ]
        }
      ]
    },
    {
      "cell_type": "code",
      "source": [
        "i = 0\n",
        "while i < 6:\n",
        "    print(\"robo, por favor regue a planta número \" + str(i))\n",
        "    i += 2"
      ],
      "metadata": {
        "colab": {
          "base_uri": "https://localhost:8080/"
        },
        "id": "Xrs3lehuRA0D",
        "outputId": "37176ff3-5f37-4599-a81a-483503c89dbc"
      },
      "execution_count": 8,
      "outputs": [
        {
          "output_type": "stream",
          "name": "stdout",
          "text": [
            "robo, por favor regue a planta número 0\n",
            "robo, por favor regue a planta número 2\n",
            "robo, por favor regue a planta número 4\n"
          ]
        }
      ]
    },
    {
      "cell_type": "code",
      "source": [],
      "metadata": {
        "id": "SkAGevIsRD3j"
      },
      "execution_count": null,
      "outputs": []
    }
  ]
}