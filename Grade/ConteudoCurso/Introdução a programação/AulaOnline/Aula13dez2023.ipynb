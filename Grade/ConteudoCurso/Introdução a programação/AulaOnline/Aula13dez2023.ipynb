{
  "nbformat": 4,
  "nbformat_minor": 0,
  "metadata": {
    "colab": {
      "provenance": []
    },
    "kernelspec": {
      "name": "python3",
      "display_name": "Python 3"
    },
    "language_info": {
      "name": "python"
    }
  },
  "cells": [
    {
      "cell_type": "code",
      "source": [
        "idade = 20\n",
        "print(idade)\n",
        "print(type(idade))\n",
        "\n",
        "print()\n",
        "\n",
        "\n",
        "# -1\n",
        "bebida = \"Café\"\n",
        "valor = 8.00\n",
        "tipoBebida = \"não alcoólica\"\n",
        "print(\"Minha bebida favorita é \" + bebida + \", o tipo da bebida é \" + tipoBebida + \", seu valor é de R$\", valor)\n",
        "print(\"bebida o tipo é \", type(bebida))\n",
        "print(\"valor o tipo é \", type(valor))\n",
        "print(\"tipobebida o tipo é \", type(tipoBebida))\n",
        "\n",
        "print()\n",
        "\n",
        "# 2-\n",
        "\n",
        "bebida = \"Café\"\n",
        "valor = 8.00\n",
        "tipoBebida = \"Não alcoólica\"\n",
        "print(\"Minha bebida favorita é {} o tipo da bebida é {}, seu valor é de R${}\".format(bebida, tipoBebida, valor))\n",
        "\n"
      ],
      "metadata": {
        "colab": {
          "base_uri": "https://localhost:8080/"
        },
        "id": "jPXpBW-yaQnN",
        "outputId": "39161bd6-13a3-44a5-bd0d-318c86623b02"
      },
      "execution_count": 14,
      "outputs": [
        {
          "output_type": "stream",
          "name": "stdout",
          "text": [
            "20\n",
            "<class 'int'>\n",
            "\n",
            "Minha bebida favorita é Café, o tipo da bebida é não alcoólica, seu valor é de R$ 8.0\n",
            "bebida o tipo é  <class 'str'>\n",
            "valor o tipo é  <class 'float'>\n",
            "tipobebida o tipo é  <class 'str'>\n",
            "\n",
            "Minha bebida favorita é Café o tipo da bebida é Não alcoólica, seu valor é de R$8.0\n"
          ]
        }
      ]
    },
    {
      "cell_type": "code",
      "source": [],
      "metadata": {
        "id": "fefQnnKurQoV"
      },
      "execution_count": null,
      "outputs": []
    },
    {
      "cell_type": "code",
      "execution_count": 19,
      "metadata": {
        "colab": {
          "base_uri": "https://localhost:8080/"
        },
        "id": "Kn8kG3tjkpOl",
        "outputId": "d4f68a72-95b1-45e9-d11d-84789669c6d5"
      },
      "outputs": [
        {
          "output_type": "stream",
          "name": "stdout",
          "text": [
            "\n",
            "40.1\n",
            "159.9\n",
            "O preço do prato Strogonoff é R$59.9, o seu troco do valor R$100 é de R$40.1\n"
          ]
        }
      ],
      "source": [
        "almoco_favorito = \" Strogonoff\"\n",
        "preco = 59.9\n",
        "orcamento = 100\n",
        "troco = orcamento - preco\n",
        "\n",
        "print()\n",
        "\n",
        "print(troco)\n",
        "print(orcamento + preco)\n",
        "print(\"O preço do prato{} é R${}, o seu troco do valor R${} é de R${}\".format(almoco_favorito,preco, orcamento, troco))\n",
        "\n"
      ]
    },
    {
      "cell_type": "code",
      "source": [
        "# estrutura condicionais\n",
        "\n",
        "almoco_favorito = \" Lasanha\"\n",
        "preco = 80.00\n",
        "dinheiro = 60\n",
        "cartao = 30\n",
        "orcamento = dinheiro + cartao\n",
        "troco= orcamento-preco\n",
        "\n",
        "if (orcamento >= preco):\n",
        "  if (dinheiro>=preco):\n",
        "    print(\"Parabens você ira matar sua fome e pagara no dinheiro o valor de R${}\" .format(dinheiro))\n",
        "  else:\n",
        "    restante_cartao = preco-dinheiro\n",
        "    print(\"Parabens voçê pagou a{} com R${} em dinheiro e R${} no cartao, o total de RS{} seu troco foi de R${}\" .format(almoco_favorito, dinheiro,restante_cartao,orcamento,troco) )\n",
        "else:\n",
        "  print(\"Mudança de planos. O almoço não vai ser esse hoje!!\")\n"
      ],
      "metadata": {
        "colab": {
          "base_uri": "https://localhost:8080/"
        },
        "id": "LgoTcHoPki9B",
        "outputId": "01a03478-d312-449a-bd63-15245f9530ac"
      },
      "execution_count": 34,
      "outputs": [
        {
          "output_type": "stream",
          "name": "stdout",
          "text": [
            "Parabens voçê pagou a Lasanha com R$60 em dinheiro e R$20.0 no cartao, o total de RS90 seu troco foi de R$10.0\n"
          ]
        }
      ]
    },
    {
      "cell_type": "code",
      "execution_count": null,
      "metadata": {
        "id": "hue2u7MFaO_1"
      },
      "outputs": [],
      "source": []
    }
  ]
}