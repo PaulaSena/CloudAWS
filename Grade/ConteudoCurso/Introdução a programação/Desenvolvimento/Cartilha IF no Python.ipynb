{
 "cells": [
  {
   "cell_type": "markdown",
   "metadata": {},
   "source": [
    "# Estruturas Condicionais no Python"
   ]
  },
  {
   "cell_type": "markdown",
   "metadata": {},
   "source": [
    "## IF"
   ]
  },
  {
   "cell_type": "code",
   "execution_count": null,
   "metadata": {},
   "outputs": [],
   "source": [
    "#if CRITÉRIO QUE QUERO TESTAR:\n",
    "#    ação 1\n",
    "#    ação 2\n",
    "#    ação 3\n",
    "#    ação n\n",
    "\n",
    "#ação que está fora da indentação\n",
    "\n",
    "\n",
    "\n",
    "nome = 'Daniel'\n",
    "sobrenome = ''\n",
    "lista = []\n",
    "\n",
    "\n",
    "if nome:\n",
    "    print('A variável nome não é vazia')\n",
    "\n",
    "if sobrenome:\n",
    "    print('A variável sobrenome não é vazia')\n",
    "    \n"
   ]
  },
  {
   "cell_type": "markdown",
   "metadata": {},
   "source": [
    "## Operadores Lógicos"
   ]
  },
  {
   "cell_type": "code",
   "execution_count": null,
   "metadata": {},
   "outputs": [],
   "source": [
    "variavel = \n",
    "\n",
    "if nome:\n",
    "    print('A variável nome não é vazia')\n",
    "    \n",
    "if nome == \n",
    "\n",
    "if nome != \n",
    "\n",
    "if nome >= \n",
    "\n",
    "if nome <= \n",
    "\n",
    "if nome >\n",
    "\n",
    "if nome <\n",
    "\n",
    "if a in nome\n",
    "\n",
    "if a in lista\n",
    "\n",
    "if is True\n",
    "\n",
    "if True\n",
    "\n"
   ]
  },
  {
   "cell_type": "markdown",
   "metadata": {},
   "source": [
    "## ELSE"
   ]
  },
  {
   "cell_type": "code",
   "execution_count": null,
   "metadata": {},
   "outputs": [],
   "source": [
    "if nome:\n",
    "    print('A variável nome não é vazia')\n",
    "\n",
    "else:\n",
    "    print ( ' A variável nome é vazia')"
   ]
  },
  {
   "cell_type": "markdown",
   "metadata": {},
   "source": [
    "## ELIF"
   ]
  },
  {
   "cell_type": "code",
   "execution_count": null,
   "metadata": {},
   "outputs": [],
   "source": [
    "cor = \"alguma cor\"\n",
    "\n",
    "if cor == 'verde':\n",
    "    print('Acelerar')\n",
    "\n",
    "elif cor =='amarelo':\n",
    "    print('Atenção')\n",
    "\n",
    "else:\n",
    "    print('Parar')"
   ]
  },
  {
   "cell_type": "markdown",
   "metadata": {},
   "source": [
    "## IF COM FOR"
   ]
  },
  {
   "cell_type": "code",
   "execution_count": null,
   "metadata": {},
   "outputs": [],
   "source": [
    "for item in lista:\n",
    "    if item == 'Daniel':\n",
    "        print( 'É Daniel')\n",
    "    else:\n",
    "        print( 'Não é Daniel')\n"
   ]
  },
  {
   "cell_type": "markdown",
   "metadata": {},
   "source": [
    "## Criando uma Decisão baseado em ordens de Manutenção"
   ]
  },
  {
   "cell_type": "code",
   "execution_count": null,
   "metadata": {},
   "outputs": [],
   "source": [
    "ordens = ['20010102', '3030304050', '40005004305','20067802', '3030356750', '40005005675', '3030304050', '24505004305', '30067802', '4030356750']\n",
    "\n",
    "for ordem in ordens:\n",
    "    if ordem[0]=='2':\n",
    "        print(f'Ordem {ordem} - Manutenção Preventiva')\n",
    "    elif ordem[0]=='3':\n",
    "        print(f'Ordem {ordem} - Manutenção Corretiva')\n",
    "    else:\n",
    "        print(f'Ordem {ordem} - Manutenção Preditiva')\n"
   ]
  }
 ],
 "metadata": {
  "kernelspec": {
   "display_name": "Python 3",
   "language": "python",
   "name": "python3"
  },
  "language_info": {
   "codemirror_mode": {
    "name": "ipython",
    "version": 3
   },
   "file_extension": ".py",
   "mimetype": "text/x-python",
   "name": "python",
   "nbconvert_exporter": "python",
   "pygments_lexer": "ipython3",
   "version": "3.8.3"
  }
 },
 "nbformat": 4,
 "nbformat_minor": 4
}
