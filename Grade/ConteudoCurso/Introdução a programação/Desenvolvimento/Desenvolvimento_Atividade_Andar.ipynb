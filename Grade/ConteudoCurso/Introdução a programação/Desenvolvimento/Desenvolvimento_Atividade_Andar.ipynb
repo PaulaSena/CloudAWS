{
  "cells": [
    {
      "cell_type": "markdown",
      "metadata": {
        "id": "8X7YV9cIU82c"
      },
      "source": [
        "Precisamos imprimir um número para cada andar de um hotel de 20 andares. Porém, o dono do hotel é supersticioso e optou por não ter um 13ro andar.\n",
        "\n",
        "Escreva um código que imprima todos os números exceto o número 13.\n",
        "Escreva mais um código que resolva o mesmo problema, mas dessa vez usando o laço de repetição 'while'.\n",
        "\n",
        "Como desafio, imprima eles em ordem decrescente (20, 19, 18...)"
      ]
    },
    {
      "cell_type": "markdown",
      "metadata": {
        "id": "0xPCIn9tVIfX"
      },
      "source": [
        "Em While"
      ]
    },
    {
      "cell_type": "code",
      "execution_count": null,
      "metadata": {
        "colab": {
          "base_uri": "https://localhost:8080/"
        },
        "id": "zG-0ggBbUxAy",
        "outputId": "87477307-fac3-4419-863e-1a4509020b5d"
      },
      "outputs": [
        {
          "name": "stdout",
          "output_type": "stream",
          "text": [
            "20\n",
            "19\n",
            "18\n",
            "17\n",
            "16\n",
            "15\n",
            "14\n",
            "12\n",
            "11\n",
            "10\n",
            "9\n",
            "8\n",
            "7\n",
            "6\n",
            "5\n",
            "4\n",
            "3\n",
            "2\n",
            "1\n"
          ]
        }
      ],
      "source": [
        "# while Teste 1\n",
        "andar = 20\n",
        "while andar >= 1:\n",
        "    if andar == 13:\n",
        "        andar -= 1\n",
        "        continue\n",
        "    print(andar)\n",
        "    andar -= 1\n"
      ]
    },
    {
      "cell_type": "code",
      "execution_count": 2,
      "metadata": {
        "colab": {
          "base_uri": "https://localhost:8080/"
        },
        "id": "5RryEK3ZGpX7",
        "outputId": "154f328e-3d1b-4fc9-807c-0b0e40444db8"
      },
      "outputs": [
        {
          "name": "stdout",
          "output_type": "stream",
          "text": [
            "20\n",
            "19\n",
            "18\n",
            "17\n",
            "16\n",
            "15\n",
            "14\n",
            "12\n",
            "11\n",
            "10\n",
            "9\n",
            "8\n",
            "7\n",
            "6\n",
            "5\n",
            "4\n",
            "3\n",
            "2\n",
            "1\n"
          ]
        }
      ],
      "source": [
        "# while Teste 2\n",
        "andar = 20\n",
        "while andar > 0:\n",
        "    if andar != 13:\n",
        "      print(andar)\n",
        "    andar -= 1"
      ]
    },
    {
      "cell_type": "markdown",
      "metadata": {
        "id": "yh0o5WfzU7nT"
      },
      "source": [
        "Em For"
      ]
    },
    {
      "cell_type": "code",
      "execution_count": null,
      "metadata": {
        "colab": {
          "base_uri": "https://localhost:8080/"
        },
        "id": "PPcrPczcVcJ3",
        "outputId": "e7348cde-a605-4c7a-d00c-80cd05705ac4"
      },
      "outputs": [
        {
          "name": "stdout",
          "output_type": "stream",
          "text": [
            "20\n",
            "19\n",
            "18\n",
            "17\n",
            "16\n",
            "15\n",
            "14\n",
            "12\n",
            "11\n",
            "10\n",
            "9\n",
            "8\n",
            "7\n",
            "6\n",
            "5\n",
            "4\n",
            "3\n",
            "2\n",
            "1\n"
          ]
        }
      ],
      "source": [
        "# FOR Teste 1\n",
        "for andar in range(20, 0, -1):\n",
        "    if andar == 13:\n",
        "        continue\n",
        "    print(andar)"
      ]
    },
    {
      "cell_type": "code",
      "execution_count": 3,
      "metadata": {
        "colab": {
          "base_uri": "https://localhost:8080/"
        },
        "id": "5RbUT-OTHJHW",
        "outputId": "8c76ec0c-800a-426c-b793-591dca50bcdb"
      },
      "outputs": [
        {
          "name": "stdout",
          "output_type": "stream",
          "text": [
            "20\n",
            "19\n",
            "18\n",
            "17\n",
            "16\n",
            "15\n",
            "14\n",
            "12\n",
            "11\n",
            "10\n",
            "9\n",
            "8\n",
            "7\n",
            "6\n",
            "5\n",
            "4\n",
            "3\n",
            "2\n",
            "1\n"
          ]
        }
      ],
      "source": [
        "# FOR Teste 2\n",
        "for andar in range(20, 0, -1):\n",
        "    if andar != 13:\n",
        "      print(andar)"
      ]
    }
  ],
  "metadata": {
    "colab": {
      "provenance": []
    },
    "kernelspec": {
      "display_name": "Python 3",
      "name": "python3"
    },
    "language_info": {
      "name": "python"
    }
  },
  "nbformat": 4,
  "nbformat_minor": 0
}
